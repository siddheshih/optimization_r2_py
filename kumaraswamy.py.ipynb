{
 "cells": [
  {
   "cell_type": "code",
   "execution_count": 44,
   "metadata": {},
   "outputs": [],
   "source": [
    "import math\n",
    "from scipy.optimize import fsolve\n",
    "import sympy as sym"
   ]
  },
  {
   "cell_type": "code",
   "execution_count": 25,
   "metadata": {},
   "outputs": [],
   "source": [
    "\"\"\"\n",
    "The Momment generator function\n",
    "--------\n",
    "Inputs:\n",
    "    a,b: The parameters\n",
    "    n:   The order of the moment\n",
    "Output:\n",
    "    The moment with respect to a,b of order n\n",
    "\"\"\"\n",
    "def moment(a,b,n):\n",
    "    num=math.log(b)+math.lgamma(1+(n/a))+math.lgamma(b)\n",
    "    den=math.lgamma(1+b+(n/a))\n",
    "    c=num/den\n",
    "    return math.exp(c)"
   ]
  },
  {
   "cell_type": "code",
   "execution_count": 26,
   "metadata": {},
   "outputs": [],
   "source": [
    "\"\"\"\n",
    "The function that creates the equations for moments\n",
    "mu and var needs to be defined gloabally\n",
    "\"\"\"\n",
    "def fn_mom(p):\n",
    "    x,y=p\n",
    "    global mu,var\n",
    "    t=moment(math.exp(x),math.exp(y),1)\n",
    "    mom1=t-mu\n",
    "    mom2=moment(math.exp(x),math.exp(y),2)-(t*t)-var\n",
    "    return [mom1,mom2]\n",
    "    "
   ]
  },
  {
   "cell_type": "code",
   "execution_count": 27,
   "metadata": {},
   "outputs": [],
   "source": [
    "\"\"\"\n",
    "The mon linear equation solver\n",
    "input: initial values of x and y(Bascially the rhs of equation)\n",
    "Output: The Solution\n",
    "\"\"\"\n",
    "def moment_solver(x,y):\n",
    "    p=[x,y]\n",
    "    k,l=fsolve(fn_mom, p)\n",
    "    return [k,l]"
   ]
  },
  {
   "cell_type": "code",
   "execution_count": 28,
   "metadata": {},
   "outputs": [],
   "source": [
    "mu=3\n",
    "var=0.7\n",
    "#fn_mom(4,5)"
   ]
  },
  {
   "cell_type": "code",
   "execution_count": 29,
   "metadata": {},
   "outputs": [],
   "source": [
    "def equation(p):\n",
    "    x,y=p\n",
    "    return [x+y**2-4, math.exp(x) + x*y - 3]\n"
   ]
  },
  {
   "cell_type": "code",
   "execution_count": 30,
   "metadata": {},
   "outputs": [],
   "source": [
    "x, y =  fsolve(fn_mom, [1, 1])"
   ]
  },
  {
   "cell_type": "code",
   "execution_count": 31,
   "metadata": {},
   "outputs": [
    {
     "data": {
      "text/plain": [
       "(-0.055289244814106554, -3.9985549185340283)"
      ]
     },
     "execution_count": 31,
     "metadata": {},
     "output_type": "execute_result"
    }
   ],
   "source": [
    "x,y"
   ]
  },
  {
   "cell_type": "code",
   "execution_count": 32,
   "metadata": {},
   "outputs": [],
   "source": [
    "def moment_solver(x,y):\n",
    "    p=[x,y]\n",
    "    k,l=fsolve(fn_mom, p)\n",
    "    return [k,l]"
   ]
  },
  {
   "cell_type": "code",
   "execution_count": null,
   "metadata": {},
   "outputs": [],
   "source": []
  },
  {
   "cell_type": "code",
   "execution_count": 33,
   "metadata": {},
   "outputs": [
    {
     "data": {
      "text/plain": [
       "[-0.055289244814106554, -3.9985549185340283]"
      ]
     },
     "execution_count": 33,
     "metadata": {},
     "output_type": "execute_result"
    }
   ],
   "source": [
    "moment_solver(1,1)"
   ]
  },
  {
   "cell_type": "code",
   "execution_count": 49,
   "metadata": {},
   "outputs": [],
   "source": [
    "\"\"\"\n",
    "Input:\n",
    "Mu and Var of the distribution\n",
    "Output:\n",
    "Parameters of the distribution from method of moments\n",
    "\"\"\"\n",
    "\n",
    "def get_params(mu,var,z=0.01,m=0.01):\n",
    "    def moment(a,b,n):\n",
    "        num=math.log(b)+math.lgamma(1+(n/a))+math.lgamma(b)\n",
    "        den=math.lgamma(1+b+(n/a))\n",
    "        c=num/den\n",
    "        return math.exp(c)\n",
    "    def fn_mom(p):\n",
    "        x,y=p\n",
    "        global mu,var\n",
    "        t=moment(math.exp(x),math.exp(y),1)\n",
    "        mom1=t-mu\n",
    "        mom2=moment(math.exp(x),math.exp(y),2)-(t*t)-var\n",
    "        return (mom1,mom2)\n",
    "    t=(z,m)\n",
    "    k,l=fsolve(fn_mom, t)\n",
    "    #k,l=sym.solve(fn_mom, t)\n",
    "    return[k,l]\n",
    "    "
   ]
  },
  {
   "cell_type": "code",
   "execution_count": 50,
   "metadata": {},
   "outputs": [
    {
     "name": "stderr",
     "output_type": "stream",
     "text": [
      "/home/siddhesh/anaconda3/lib/python3.7/site-packages/scipy/optimize/minpack.py:175: RuntimeWarning: The iteration is not making good progress, as measured by the \n",
      "  improvement from the last five Jacobian evaluations.\n",
      "  warnings.warn(msg, RuntimeWarning)\n"
     ]
    },
    {
     "data": {
      "text/plain": [
       "[-0.07961790332447287, -3.593242695577121]"
      ]
     },
     "execution_count": 50,
     "metadata": {},
     "output_type": "execute_result"
    }
   ],
   "source": [
    "get_params(0.3,0.4)"
   ]
  },
  {
   "cell_type": "code",
   "execution_count": null,
   "metadata": {},
   "outputs": [],
   "source": []
  },
  {
   "cell_type": "code",
   "execution_count": null,
   "metadata": {},
   "outputs": [],
   "source": []
  },
  {
   "cell_type": "code",
   "execution_count": null,
   "metadata": {},
   "outputs": [],
   "source": []
  }
 ],
 "metadata": {
  "kernelspec": {
   "display_name": "Python 3",
   "language": "python",
   "name": "python3"
  },
  "language_info": {
   "codemirror_mode": {
    "name": "ipython",
    "version": 3
   },
   "file_extension": ".py",
   "mimetype": "text/x-python",
   "name": "python",
   "nbconvert_exporter": "python",
   "pygments_lexer": "ipython3",
   "version": "3.7.7"
  }
 },
 "nbformat": 4,
 "nbformat_minor": 4
}
