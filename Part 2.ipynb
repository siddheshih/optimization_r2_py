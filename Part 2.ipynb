{
 "cells": [
  {
   "cell_type": "code",
   "execution_count": 26,
   "metadata": {},
   "outputs": [],
   "source": [
    "import pandas as pd\n",
    "import numpy as np\n",
    "#!pip install pygam\n",
    "import pygam"
   ]
  },
  {
   "cell_type": "code",
   "execution_count": 165,
   "metadata": {},
   "outputs": [],
   "source": [
    "def ifelse(bool_arg,true,false):\n",
    "    if(bool_arg):\n",
    "        return true\n",
    "    else:\n",
    "        return false\n",
    "def optim_kumar(corr_mtx=[], P_in=[],\n",
    "                        W_in = [0.], R_in = [0.], Z_in =[0.],\n",
    "                        Wlim = 0, Rlim = 3, Zlim = 0.01,\n",
    "                        k_alpha = 0.05, z_alpha = 0.05, eps=0.05,\n",
    "                        penalty_RZ = 0, elastic_RZ = 0.5,Clim=[0],CashLim=pd.NA,\n",
    "                        algorithm = \"NLOPT_LD_SLSQP\", controls = list(),\n",
    "                        S_FN = [], relax = False, browse =False) :\n",
    "    W_optim = [] #Index for W elements to be optimized in the vector W.in=W in the composing the mathematical formulation\n",
    "    R_optim = [] #Index for R elements to be optimized in the vector R.in=R in the composing the mathematical formulation\n",
    "    Z_optim = [] #Index for Z elements to be optimized in the vector C.in=C in the composing the mathematical formulation\n",
    "    W_indx = 0 #Index for W elements to be optimized in vector passed to optimization routine\n",
    "    R_indx = 0 #Index for R \"\n",
    "    Z_indx = 0 #Index for Z \"\n",
    "    W_TF = False #Are there W variables to be optimized?\n",
    "    R_TF = False #Are there R \"\n",
    "    Z_TF = False #Are there Z \"\n",
    "    S_Tf = False #Will there be novation occurring?\n",
    "    C_TF = False #Only used for forward-prop because we must ensure that w_ast+w_nov=pre-defined value\n",
    "    n_S = 0 # number of supply functions passed in (should always be 1. >1 if more than one asset to optimize)      \n",
    "    n_C = 0 # Only used for forward-prop, number of combined sets passed in (should always be 1. >1 if more than one asset to optimize)     \n",
    "    Cash_TF = False #is there cash constraint in the portfolio\n",
    "    \n",
    "    if (pd.isnull(CashLim)):\n",
    "        pass\n",
    "    else :\n",
    "        cash_TF=True\n",
    "        # The given command concatenates 2 numpy arrays \n",
    "        W_in=CashLim+W_in\n",
    "        R_in=[1.01]+R_in\n",
    "        Z_in=[1]+Z_in\n",
    "        if(len(P_in)>0):\n",
    "            k=[[0.9999,100,1]]\n",
    "            P_in=k+P_in\n",
    "        else:\n",
    "            P_in=[0.9999]\n",
    "            ## What exactly is the Line 92 doing\n",
    "                \n",
    "        \"\"\"\n",
    "        Modify the Line Number 92\n",
    "        The part of adding checks to correlation Matrix is left\n",
    "        \"\"\"\n",
    "        k=np.shape(corr_mtx)\n",
    "        m=np.zeros(k[1])\n",
    "        d=np.insert(corr_mtx,[0],m,axis=0)\n",
    "        l=np.zeros(k[0]+1)\n",
    "        l=np.transpose(l)\n",
    "        corr_mtx=np.insert(d,0,l,axis=1)\n",
    "        corr_mtx[0,0]=1\n",
    "        \n",
    "    if(np.count_nonzero(Clim)==len(Clim)):\n",
    "        C_TF=True\n",
    "        n_C=len(Clim)\n",
    "    \"\"\"\n",
    "    Which variables correspond to Supply Function (S.FN)\n",
    "    Note Here:\n",
    "    The S.optim in R has been actually been replaced by a:b\n",
    "    \"\"\"\n",
    "    if(len(S_FN)>0 and type(ini_list1) is list):\n",
    "        S_TF = True #supply function has been passed in (which means novation is occurring)\n",
    "        #S.optim = c((nrow(corr.mtx)+1-length(S_FN)):nrow(corr.mtx)) #correlation matrix is constructed s.t. last elements correspond to novation \n",
    "        s=shape(corr_mtx)\n",
    "        a=s[0]+1-len(S_FN)\n",
    "        b=s[0]\n",
    "        W_in[a:b] = 0.01 #just setting a random default value for now for amount novated\n",
    "        n_S = length(b-a)\n",
    "        print('n')\n",
    "    else:\n",
    "        S_optim=0\n",
    "    \"\"\"\n",
    "    Checks if any element is zero- That basically needs to be optimized\n",
    "    The three snnipets below give us :\n",
    "     Which elemnt in W,R,Z to optimize\n",
    "    \"\"\"\n",
    "    if(np.all(W_in)):\n",
    "        pass\n",
    "    else:\n",
    "        if(len(W_in) == 1):\n",
    "            # We are changing the  notataio here W.optim <- c(1:nrow(corr.mtx))\n",
    "            c=np.shape(corr_mtx)\n",
    "            W_optim=c[0]\n",
    "            W_in=np.zeros(c[0])\n",
    "        else:\n",
    "            \n",
    "            k=np.array(W_in)\n",
    "            W_optim=np.where(k==0)[0]\n",
    "            W_optim=W_optim[0]\n",
    "        W_TF=True\n",
    "    \n",
    "    if(np.all(R_in)):\n",
    "        pass\n",
    "    else:\n",
    "        if(len(R_in) == 1):\n",
    "            # We are changing the  notataio here W.optim <- c(1:nrow(corr.mtx))\n",
    "            c=np.shape(corr_mtx)\n",
    "            R_optim=c[0]\n",
    "            R_in=np.zeros(c[0])\n",
    "        else:\n",
    "            \n",
    "            k_1=np.array(R_in)\n",
    "            R_optim=np.where(k==0)[0]\n",
    "            R_optim=R_optim[0]\n",
    "        R_TF=True\n",
    "            \n",
    "    if(np.all(Z_in)):\n",
    "        pass\n",
    "    else:\n",
    "        if(len(Z_in) == 1):\n",
    "            # We are changing the  notataion here W.optim <- c(1:nrow(corr.mtx))\n",
    "            c=np.shape(corr_mtx)\n",
    "            Z_optim=c[0]\n",
    "            Z_in=np.zeros(c[0])\n",
    "        else:\n",
    "            \n",
    "            k=np.array(Z_in)\n",
    "            Z_optim=np.where(k==0)[0]\n",
    "            Z_optim=Z_optim[0]\n",
    "        Z_TF=True\n",
    "    #Number of Variables to send to optimizer    \n",
    "    n_opt = W_optim+R_optim+Z_optim\n",
    "    #### Create Funtions to interpolate values and gradients of S.FN from MGCV ####\n",
    "    if(S_Tf):\n",
    "        def RZ_S_calc(R,Z):\n",
    "            global R_in,W_optim\n",
    "            Rc=R_in[0:W_optim]\n",
    "            Zc=Z_in[0:W_optim]\n",
    "            if (len(R)>0):\n",
    "                Rs=Rc-R\n",
    "                Zs = Zc-Z\n",
    "                return Rs, Zs\n",
    "            m=len(Rc)\n",
    "            if (len (R)==m and len(Z)==m):\n",
    "                Rs = Rc-R\n",
    "                Zs = Zc-Z\n",
    "            elif(np.shape(R)[1] == m and np.shape(R)[1] == m):\n",
    "                \"\"\"\n",
    "                Robustness is assumed here:\n",
    "                 Rc and Zc are fit to be multiplied\n",
    "                \"\"\"\n",
    "                m1=np.ones([1,np.shape(R)[0]])\n",
    "                m2=np.ones([1,np.shape(Z)[0]])\n",
    "                Rs=(Rc*m1).T-R\n",
    "                Zs=(Zc*m2).T-Z\n",
    "            return[Rs,Zs]\n",
    "        \n",
    "        def S_intrp(R, Z, inpt_adj = True):\n",
    "            def S_intrp_set(mdls, R, Z):\n",
    "                S=np.zeros(len(R))\n",
    "                for a in mdls:\n",
    "                    \"\"\"\n",
    "                    Note we initially Fit the Gam using the following:\n",
    "                    gam = LogisticGAM().gridsearch(X_train, y_train)\n",
    "                    mdls is a set of Set of such objects \n",
    "\n",
    "                    \"\"\"\n",
    "                    t=a.predict([R,Z])\n",
    "                    S=S+t\n",
    "                return S\n",
    "            if(inpt_adj):\n",
    "                RZ =RZ_S_calc(R, Z)\n",
    "                R = RZ.R\n",
    "                Z = RZ.Z\n",
    "            ## Simple Case\n",
    "            m=len(S_FN)\n",
    "            if(m==1):\n",
    "                if isinstance(pygam.LinearGAM(),S_FN[1]):\n",
    "                    S=S_intrp_set(S_FN[1],R,Z)\n",
    "                else:\n",
    "                    S=S_intrp_set(S_FN[[1]],R,Z)\n",
    "            if(len(np.shape(R))==1 and len(np.shape(Z))==1):\n",
    "                if(len(R)==m and len(Z)==m):\n",
    "                    R=R.T\n",
    "                    Z=Z.T\n",
    "                else:\n",
    "                    R = np.repeat(R, repeats=m, axis=0)\n",
    "                    Z = np.repeat(Z, repeats=m, axis=0)\n",
    "            S=np.zeros([shape(R)[0],m])\n",
    "            for j in range(m):\n",
    "                \"\"\"\n",
    "                S is a array of arrays\n",
    "                \"\"\"\n",
    "                S[:,j]= [S_N[j], R[:, j], Z[:, j]]\n",
    "            return S\n",
    "        #Interpolate derivative w.r.t R\n",
    "        def S_dR_intrp(R, Z, delta = (1e-6)/2, inpt_adj = True):\n",
    "            S_pre = S_intrp(R-delta, Z, inpt_adj = inpt_adj)\n",
    "            S_pst = S.intrp(R, Z+delta, inpt_adj = inpt_adj)\n",
    "            return ((S_pst-S_pre)/(2*delta))\n",
    "        \n",
    "        #### Define/Update Vectors and Vector-Derivatives ####\n",
    "        dWin_dw=np.zeros(len(W_in))\n",
    "        dWin_dr=np.zeros(len(W_in))\n",
    "        dWin_dz=np.zeros(len(W_in))\n",
    "        dRin_dw=nr.zeros(len(R_in))\n",
    "        dZin_dz=np.zeros(len(Z_in))\n",
    "        if(W_TF): #If any allocations to be optimized\n",
    "            dWin_dw[W_optim] = 1\n",
    "\n",
    "        if(Cash_TF): #if cash constraint\n",
    "            dWin_dw[1] = -1\n",
    "  \n",
    "        if(S_TF): #If supply function provided\n",
    "            dRin_dr[R_optim] = 1\n",
    "            dZin_dz[Z_optim] = 1\n",
    "        \"\"\"\n",
    "        Scoping requirement: we would like to change values of variables that are not explicitly passed \n",
    "        into the function that is they are declared outside the function, BUT, we DON'T want those\n",
    "        changes to persist outside the function e.g. suppose W.in = [1,2,3] and inside f() \n",
    "        we modify W.in such that W.in = [1,2,4] then that change to W.in should only be visible \n",
    "        inside f() outside f() W.in remains W.in=[1,2,3] in R if we want changes to\\\n",
    "        persist outside f() then we do assignment W.in <<- [1,2,4] rather than W.in <- [1,2,4]\n",
    "        \"\"\"\n",
    "        #Parse X.opt, update W.in, R.in, Z.in, dWin.dw, dWin.dr, dWin.dz, dRin.dr, dZin.dz\n",
    "        def opt_update_WRZ(X):\n",
    "            \n",
    "            global W, R, Z, dW_dw, dW_dr, dW_dz, dR_dr, dZ_dz \n",
    "            \n",
    "            if(W_TF):\n",
    "                W_in[W_optim] = X[W_indx]\n",
    "                if(Cash_TF):\n",
    "                    W_in[1] = CashLim-sum(X[:W_indx])\n",
    "            if(R_TF):\n",
    "                R_in[R_optim] = X[R_indx]\n",
    "            if(Z_TF):\n",
    "                Z_in[Z_optim] = X[Z_indx]\n",
    "            if (S_TF):\n",
    "                \"\"\"\n",
    "                If supply function has been provided\n",
    "                indices ending in 'S' indicate that its related to the supply function\n",
    "                \"\"\"\n",
    "                W_in[S_optim] = S_intrp(X[RS_indx], X[ZS_indx])\n",
    "                dWin_dr[S_optim] = S_dR_intrp(X[RS_indx], X[ZS_indx])\n",
    "                dWin_dz[S_optim] = S_dZ_intrp(X[RS_indx], X[ZS_indx])\n",
    "                if(Cash_TF):\n",
    "                    dWin_dz[1] = -W_in[S_optim]\n",
    "                    if(W_TF):\n",
    "                        \n",
    "                        W_in[1]=W_in[1]-sum(W_in[0:S_optim]*(-X[ZS_indx]))\n",
    "                    else:\n",
    "                        W_in[1]=CashLim-sum(W_in[0:S_optim]*(-X[ZS_indx]))\n",
    "                \"\"\"\n",
    "                This Changes the global variables\n",
    "                \"\"\"\n",
    "                W = W_in \n",
    "                R = R_in\n",
    "                Z = Z_in \n",
    "                dW_dw = dWin_dw\n",
    "                dW_dr = dWin_dr\n",
    "                dW_dz = dWin_dz\n",
    "                dR_dr = dRin_dr\n",
    "                dZ_dz = dZin_dz\n",
    "                return [W, R, Z, dW_dw, dW_dr, dW_dz, dR_dr, dZ_dz]\n",
    "            \n",
    "            def obj(params):\n",
    "                W = params.W\n",
    "                R = params.R\n",
    "                Z = params.Z\n",
    "                #calculate lender profit\n",
    "                prft = np.multiply((W.T),(np.multiply(P_in,(R-Z))+Z))\n",
    "                #calculate scalaing factor and variance\n",
    "                scale_fct = np.sqrt((1-eps)/eps)\n",
    "                Var = np.multiply(W,np.multiply((R-Z),Std)).T*corr_mtx*np.multiply(W,np.multiply((R-Z),Std))\n",
    "                return scale_fct*np.sqrt(Var[1,1])-prft[1,1]\n",
    "                \n",
    "            def d_obj_dw(params):\n",
    "                W = params.W\n",
    "                R = params.R\n",
    "                Z = params.Z\n",
    "                dW.dw = params.dW_dw\n",
    "                dprft_dw = (dW_dw.T)*(np.multiply(P_in,(R-Z))+Z)\n",
    "                scale_fct = np.sqrt((1-eps)/eps)\n",
    "                Var = np.multiply(W,np.multiply((R-Z),Std)).T*corr_mtx*np.multiply(W,np.multiply((R-Z),Std))\n",
    "                dVar_df = 2*(corr_mtx*np.multiply(W,np.multiply((R-Z),Std))) #n x 1\n",
    "                df_dw = np.multiply(Std,np.multiply((R-Z)*dW_dw))\n",
    "                #Combine\n",
    "                dVar_dw = scale_fct*1/2*Var[1,1]^(-1/2)*dVar_df[W_optim]*(df_dw[W_optim]+df_dw[1]*Cash_TF)\n",
    "                \n",
    "                return(dVar_dw-dprft_dw)\n",
    "            \n",
    "            def d_obj_d(params):\n",
    "                W = params.W\n",
    "                R = params.R\n",
    "                Z = params.Z\n",
    "                dW_dr = params.dW_dr\n",
    "                dR_dr = params.dR_dr\n",
    "                #derivative of profit w.r.t w_as\n",
    "                dprft_dr = (dW_dr).T*(np.multiply(P_in,(R-Z)+Z))+(W.T)*(np.multiply(P_in,dR_dr))\n",
    "                ##derivative of variance w.r.t. w_ast\n",
    "                #calculate terms\n",
    "                scale_fct = np.sqrt((1-eps)/eps)\n",
    "                Var = np.multiply(W,np.multiply((R-Z),Std)).T*corr_mtx*np.multiply(W,np.multiply((R-Z),Std))\n",
    "                dVar_df = 2*(corr_mtx*np.multiply(W,np.multiply((R-Z),Std)))\n",
    "                df_dw = np.multiply(Std,np.multiply((R-Z)*dW_dr)-np.multiply(W,dR_dr))\n",
    "                #Combine\n",
    "                dVar_dr = scale_fct*1/2*(Var[1,1]^(-1/2))*(dVar_df*df_dr)(R_optim)#%*%t(df.dr)\n",
    "                return(dVar_dr-dprft_dr)\n",
    "            \n",
    "            def d_obj_dz(params):\n",
    "                \n",
    "                    \n",
    "                W = params.W\n",
    "                R = params.R\n",
    "                Z = params.Z\n",
    "                dW_dz = params.dW_dz\n",
    "                dZ_dz = params.dZ_dz\n",
    "                dprft_dz = (dW_dz).T*(np.multiply(P_in,(R-Z)+Z))+(W.T)*(np.multiply(P_in,dZ_dz))\n",
    "                ##derivative of variance w.r.t. w_ast\n",
    "                #calculate terms\n",
    "                scale_fct = np.sqrt((1-eps)/eps)\n",
    "                Var = np.multiply(W,np.multiply((R-Z),Std)).T*corr_mtx*np.multiply(W,np.multiply((R-Z),Std))\n",
    "                dVar_df = 2*(corr_mtx*np.multiply(W,np.multiply((R-Z),Std)))\n",
    "                df_dz = np.multiply(Std,np.multiply((R-Z)*dW_dz)-np.multiply(W,dZ_dz))\n",
    "                #Combine\n",
    "                dVar_dz = scale_fct*1/2*(Var[1,1]^(-1/2))*(dVar_df*df_dz)*(Z_optim)#%*%t(df.dr)\n",
    "                return(dVar_dz-dprft_dz)\n",
    "            \n",
    "            #hessian of profit\n",
    "            #hessian of profit (not used)\n",
    "            def f_prft_hsn(params):\n",
    "                \n",
    "                W = params.W\n",
    "                R = params.R\n",
    "                Z = params.Z\n",
    "                dprft_dW = np.multiply(P_in,(R-Z))+Z\n",
    "                dprft_dR = np.multiply(W,P_in)\n",
    "                dprft_dZ = np.multiply(W,(1-P_in))\n",
    "                \n",
    "                dprft_dWdW = 0\n",
    "                dprft_dWdR = P_in\n",
    "                dprft_dWdZ = 1-P_in\n",
    "                dprft_dRdR = 0\n",
    "                dprft_dRdZ = 0\n",
    "                dprft_dZdZ = 0\n",
    "                \n",
    "                #return list\n",
    "                \"\"\"\n",
    "                Note that this function returns a dictionary\n",
    "                \"\"\"\n",
    "                c={'dWdW': dprft_dWdW,'dWdR': dprft_dRdR,'dWdZ': dprft_dWdZ,\n",
    "                'dRdR': dprft_dRdR,'dRdZ': dprft_dRdZ,'dZdZ': dprft_dZdZ }\n",
    "                return c\n",
    "            \n",
    "            \n",
    "            def g_VaR_hsn(params):\n",
    "                \n",
    "                W = params.W\n",
    "                R = params.R\n",
    "                Z = params.Z\n",
    "                S_W =np.multiply( Std,W)\n",
    "                S_RZ = np.multiply((R-Z),Std)\n",
    "                W_RZ_S =np.multiply( W,S_RZ)\n",
    "                O_W_RZ_S = corr.mtx*(W_RZ_S)\n",
    "                W_RZ_S_O = (W_RZ_S).T*corr.mtx\n",
    "                \n",
    "                #calculate scaling factor and variance\n",
    "                scale.fct = sqrt((1-eps)/eps)\n",
    "                Var = (W_RZ_S).T*corr.mtx*(W_RZ_S)\n",
    "                #calculate derivatives of Var\n",
    "                dVar_dW =  np.multiply(O_W_RZ_S,S_RZ)#*2\n",
    "                dVar_dR =  np.multiply(O_W_RZ_S,S_W) #*2\n",
    "                dVar_dZ = np.multiply(-O_W_RZ_S,S_W) #*2\n",
    "                \n",
    "                \n",
    "                dVaR_dWdW =  Var[0,0]^(-1/2)*(np.diag(S_RZ)*corr_mtx*np.diag(S_RZ))-Var[0,0]^(-3/2)*dVar_dW*(W_RZ_S_O*(S_RZ).T)\n",
    "                dVaR_dWdR =  Var[0,0]^(-1/2)*((np.diag(S_RZ)*corr_mtx*np.diag(S_W))+np.diag(O_W_RZ_S*Std))-Var[0,0]^(-3/2)*dVar_dW*(W_RZ_S_O*(S_W).T)\n",
    "                dVaR_dWdZ = -Var[0,0]^(-1/2)*((np.diag(S_RZ)*corr_mtx*np.diag(S_W))+diag(O_W_RZ_S*Std))+Var[0,0]^(-3/2)*dVar_dW*(W_RZ_S_O*(S_W).T)\n",
    "                dVaR_dRdR =  Var[0,0]^(-1/2)*(np.diag(S_W)*corr_mtx*np.diag(S_W))-Var[0,0]^(-3/2)*dVar_dR*(W_RZ_S_O*(S_W).T)\n",
    "                dVaR_dRdZ = -Var[0,0]^(-1/2)*(np.diag(S_W)*corr_mtx*np.diag(S_W))+Var[0,0]^(-3/2)*dVar_dR*(W_RZ_S_O*(S_W).T)\n",
    "                dVaR_dZdZ = -Var[0,0]^(-1/2)*(np.diag(S_W)*corr_mtx*np.diag(S_W))+Var[0,0]^(-3/2)*dVar_dR*(W_RZ_S_O*(S_W).T)\n",
    "\n",
    "                #Return Dict\n",
    "                d={'dWdW': dVaR_dWdW*scale_fct,'dWdR':dVaR_dRdR*scale_fct,'dWdZ':dVaR_dWdZ*scale_fct,\n",
    "                'dRdR': dVaR_dRdR*scale_fct,'dRdZ': dVaR_dRdZ*scale_fct,'dZdZ':dVaR_dZdZ*scale_fct}\n",
    "                 \n",
    "                return d\n",
    "            \"\"\"\n",
    "            We Now define constraints on optimization\n",
    "            \n",
    "            \"\"\"\n",
    "            ###Constraint 1: Amt Bought + (Amt Sold)*(Collateral on Amt Sold) <= Amt in Trust Channel\n",
    "            def cnst1_val(params):\n",
    "                W = params.W\n",
    "                R = params.R\n",
    "                Z = params.Z\n",
    "                val = ifelse(W_TF,sum(W[W_optim]),0)+ifelse(S_TF,np.multiply(W[S_optim],(-Z[S_optim])),0)\n",
    "                return val\n",
    "            \n",
    "            def cnst1_grd(params):\n",
    "                W = params.W\n",
    "                R = params.R\n",
    "                Z = params.Z\n",
    "                dW_dr = params.dW_dr\n",
    "                dW_dz = params.dW_dz\n",
    "                \n",
    "                dW=np.ones(W_optim)\n",
    "                \"\"\"\n",
    "                The function below returns either a zero or some single valuse and not a vector\n",
    "                \"\"\"\n",
    "                dRs = ifelse(S_TF,-Z[S_optim]*dW_dr[S_optim],0)\n",
    "                dZs = ifelse(S_TF,W[S_optim]+(-Z[S_optim])*dW_dz[S_optim],0)\n",
    "                k={'dW':dW,'dRs':dRs,'dZs':dZs}\n",
    "                return k\n",
    "            #Constraint 2: Amt Bought+Amt Novated = Prespecified Value (only used for frwd-prop)\n",
    "            def cnst2_val(params):\n",
    "                W = params.W\n",
    "                R = params.R\n",
    "                Z = params.Z\n",
    "                val = ifelse(W_TF,sum(W[W_optim]),0)+ ifelse(S_TF,W[S_optim],0)-ifelse(C_TF,Clim,0)\n",
    "                return(val*C_TF)\n",
    "            \n",
    "            def cnst2_grd(params):\n",
    "                \n",
    "                W = params.W\n",
    "                R = params.R\n",
    "                Z = params.Z\n",
    "                dW_dr = params.dW_dr\n",
    "                dW_dz = params.dW_dz\n",
    "                dW = np.zeros(W.optim)\n",
    "                dW[(len(dW)-n_C):length(dW)] = C_TF\n",
    "                dRs = ifelse(S_TF*C_TF,dW_dr[S_optim],0) #0 unless S.TF and C.TF\n",
    "                dZs = ifelse(S_TF*C_TF,dW_dz[S_optim],0)\n",
    "                m={'dW':dW,'dRs':dRs,'dZs':dZs}\n",
    "                return m\n",
    "            \"\"\"\n",
    "             Piece together above functions into optimizer inputs\n",
    "            \"\"\" \n",
    "            #For optimizer to fetch gradient and objective in combined list\n",
    "            def obj_val_grd(X):\n",
    "                params = opt_update_WRZ(X)\n",
    "                obj = obj(params)\n",
    "                grad =np.zeros(n_opt)\n",
    "                if(W_TF):\n",
    "                    grad[W_indx] = d_obj_dw(params)\n",
    "                if(R_TF):\n",
    "                    grad[R_indx] = d_obj_dr(params)\n",
    "                if(Z_TF):\n",
    "                    grad[Z_indx] = d_obj_dz(params)\n",
    "                t2={'objective':obj,'gradient':grad}\n",
    "                \n",
    "            #For optimizer to fetch inequality constraint graident and value in combined list\n",
    "            def cnst_ineq_val_grd(X):\n",
    "                params = opt_update_WRZ(X)\n",
    "                c_val = cnst1_val(params)\n",
    "                c_grd = cnst1_grd(params)\n",
    "                grad = np.zeros([1,n_opt])\n",
    "                #assemble jacobian\n",
    "                grad[1,W_indx] = c_grd.dW\n",
    "                if(S.TF):\n",
    "                    grad[1,RS_indx] = c_grd.dRs\n",
    "                    grad[1,ZS_indx] = c_grd.dZs\n",
    "                t3={'constraints':c.val,'jacobian':grad}\n",
    "\n",
    "            #For optimizer to fetch equality constraint graident and value in combined list\n",
    "            def cnst_eq_val_grd(X):\n",
    "                params = opt_update_WRZ(X)\n",
    "                #update parameters\n",
    "                c_val = cnst2_val(params)\n",
    "                c_grd = cnst2_grd(params)\n",
    "                #assemble jacobian\n",
    "                grad = np.zeros([1,n_opt])\n",
    "                grad[1,W_indx] = c_grd.dW\n",
    "                if(S_TF):\n",
    "                    grad[1,RS_indx] = c_grd.dRs\n",
    "                    grad[1,ZS_indx] = c_grd.dZs\n",
    "                k3={'constraints':c_val,'jacobian':grad}\n",
    "                return k3\n",
    "            #In advent equality and inequality constraints need be combined\n",
    "            def cnst_cmb_val_grd(X):\n",
    "                #update parameters\n",
    "                params = opt_update_WRZ(X)\n",
    "                indx = [True,Cash_TF,C_TF,Cash_TF,C_TF]\n",
    "                #Inequality Value\n",
    "                val_1 = cnst1_val(params)\n",
    "                #Equality Values\n",
    "                val_2 = cnst2_val(params)\n",
    "                val_3 = cnst3_val(params)\n",
    "                #Equality values Reversed (for opposite inequality)\n",
    "                val_4 = -val_2\n",
    "                val_5 = -val_3\n",
    "                #assemble\n",
    "                val = [val_1,val_2,val_3,val_4,val_5]\n",
    "                #Inequality Gradient\n",
    "                grd_1 = cnst1_grd(params)\n",
    "                grd_2 = cnst2_grd(params)\n",
    "                grd_3 = cnst3_grd(params)\n",
    "                #Gradient values Reversed (for opposite inequality)\n",
    "                \"\"\"\n",
    "                Does this imply recursion\n",
    "                #Gradient values Reversed (for opposite inequality)\n",
    "                grd.4 <- lapply(grd.2,function(x) -x)\n",
    "                grd.5 <- lapply(grd.3,function(x) -x)\n",
    "                \"\"\"\n",
    "                grd_4=-grd_2\n",
    "                grd_5=-grd_3\n",
    "                grad=np.zeros([5,n.opt])\n",
    "                grad[1,W_indx] = grd_1.dW\n",
    "                grad[2,W_indx] = grd_2.dW\n",
    "                grad[3,W_indx] = grd_3.dW\n",
    "                grad[4,W_indx] = grd_3.dW\n",
    "                grad[5,W_indx] = grd_4.dW\n",
    "                if(S.TF):\n",
    "                    grad[1,RS_indx] = grd_1.dR\n",
    "                    grad[1,ZS_indx] = grd_1.dZ\n",
    "                    grad[2,RS_indx] = grd_2.dR\n",
    "                    grad[2,ZS_indx] = grd_2.dZ\n",
    "                    grad[3,RS_indx] = grd_3.dR\n",
    "                    grad[3,ZS_indx] = grd_3.dZ\n",
    "                    grad[4,RS_indx] = grd_4.dR\n",
    "                    grad[4,ZS_indx] = grd_4.dZ\n",
    "                    grad[5,RS_indx] = grd_5.dR\n",
    "                    grad[5,ZS_indx] = grd_5.dZ\n",
    "                k6={'constraints':val[indx],'jacobian':grad[indx]}\n",
    "                return k6\n",
    "            \n",
    "            #### Set initial varibles ####\n",
    "            #create starting values, upper bound, lower bound, and solve for respective indices\n",
    "            X0_opt = [pd.NA]* n_opt\n",
    "            LB_opt = [pd.NA]* n_opt\n",
    "            UB_opt = [pd.NA]* n_opt\n",
    "            W_indx = pd.NA\n",
    "            R_indx = pd.NA\n",
    "            Z_indx = pd.NA\n",
    "            RS_indx = pd.NA\n",
    "            ZS_indx = pd.NA\n",
    "            \n",
    "            def init_val_opt():\n",
    "                global X0_opt,LB_opt,UB_opt,W_indx,R_indx,Z_indx,RS_indx,ZS_indx\n",
    "                if(W.TF):\n",
    "                    W_indx=len(W_optim)\n",
    "                    LB_opt[0:W_indx]=0.01+S_TF*Wlim*0.15*0.2\n",
    "                    UB_opt[0:W_indx]=Wlim\n",
    "                    \n",
    "            \n",
    "            \n",
    "            \n",
    "            \"\"\"\n",
    "            All these needed to be passsed into the tps algorithm directly\n",
    "             #### Pass into Optimizer ####\n",
    "            The thin plate spline has been implmented\n",
    "            Previously\n",
    "            The inputs from this part to be sent to it\n",
    "            \"\"\"\n",
    "            \n",
    "            \n",
    "                \n",
    "            \n",
    "\n",
    "                        \n",
    "                                    \n",
    "                      \n",
    "                \n",
    "        \n",
    "                \n",
    "        \n",
    "                    \n",
    "                    \n",
    "                \n",
    "                \n",
    "                \n",
    "                \n",
    "                \n",
    "            \n",
    "            \n",
    "        "
   ]
  },
  {
   "cell_type": "code",
   "execution_count": 127,
   "metadata": {},
   "outputs": [],
   "source": [
    "w=[1,3]\n",
    "#np.expand_dims(w,axis=0)\n",
    "#w2=w[:,np.newaxis]\n",
    "\n",
    "#c=np.ones([3,2])\n",
    "#np.shape(w*c)[0]"
   ]
  },
  {
   "cell_type": "code",
   "execution_count": 118,
   "metadata": {},
   "outputs": [],
   "source": [
    "z=pd.NA"
   ]
  },
  {
   "cell_type": "code",
   "execution_count": 119,
   "metadata": {},
   "outputs": [],
   "source": [
    "optim_kumar()\n"
   ]
  },
  {
   "cell_type": "code",
   "execution_count": 52,
   "metadata": {},
   "outputs": [
    {
     "name": "stdout",
     "output_type": "stream",
     "text": [
      "yes\n"
     ]
    },
    {
     "data": {
      "text/plain": [
       "6"
      ]
     },
     "execution_count": 52,
     "metadata": {},
     "output_type": "execute_result"
    }
   ],
   "source": [
    "k=[1,2,3,5]\n",
    "if(np.count_nonzero(k)==len(k)):\n",
    "    print('yes')\n",
    "    \n",
    "sum(k[:3])"
   ]
  },
  {
   "cell_type": "code",
   "execution_count": 144,
   "metadata": {},
   "outputs": [
    {
     "data": {
      "text/plain": [
       "True"
      ]
     },
     "execution_count": 144,
     "metadata": {},
     "output_type": "execute_result"
    }
   ],
   "source": [
    "c=[4,5]\n",
    "type(c) is list"
   ]
  },
  {
   "cell_type": "code",
   "execution_count": 145,
   "metadata": {},
   "outputs": [],
   "source": [
    "a=[3,3]\n",
    "a=[7]+a"
   ]
  },
  {
   "cell_type": "code",
   "execution_count": 146,
   "metadata": {},
   "outputs": [
    {
     "data": {
      "text/plain": [
       "[7, 3, 3]"
      ]
     },
     "execution_count": 146,
     "metadata": {},
     "output_type": "execute_result"
    }
   ],
   "source": [
    "a"
   ]
  },
  {
   "cell_type": "code",
   "execution_count": 164,
   "metadata": {},
   "outputs": [],
   "source": [
    "c=[[7,3],[8,9],[9,9]]\n",
    "k=np.shape(c)\n",
    "m=np.zeros(k[1])\n",
    "d=np.insert(c,[0],m,axis=0)\n",
    "l=np.zeros(k[0]+1)\n",
    "l=np.transpose(l)\n",
    "d=np.insert(d,0,l,axis=1)\n",
    "k=np.shape(d)"
   ]
  },
  {
   "cell_type": "code",
   "execution_count": 172,
   "metadata": {},
   "outputs": [
    {
     "data": {
      "text/plain": [
       "array([0, 0, 0, 1, 2, 3])"
      ]
     },
     "execution_count": 172,
     "metadata": {},
     "output_type": "execute_result"
    }
   ],
   "source": [
    "np.where(d==0)[0]\n"
   ]
  },
  {
   "cell_type": "code",
   "execution_count": 158,
   "metadata": {},
   "outputs": [
    {
     "data": {
      "text/plain": [
       "False"
      ]
     },
     "execution_count": 158,
     "metadata": {},
     "output_type": "execute_result"
    }
   ],
   "source": [
    "np.isnan([2,3,1,0]).any()"
   ]
  },
  {
   "cell_type": "code",
   "execution_count": 163,
   "metadata": {},
   "outputs": [
    {
     "data": {
      "text/plain": [
       "True"
      ]
     },
     "execution_count": 163,
     "metadata": {},
     "output_type": "execute_result"
    }
   ],
   "source": [
    "x=[2,3,4,5,9]\n",
    "np.all(x)"
   ]
  },
  {
   "cell_type": "code",
   "execution_count": 32,
   "metadata": {},
   "outputs": [
    {
     "data": {
      "text/plain": [
       "2"
      ]
     },
     "execution_count": 32,
     "metadata": {},
     "output_type": "execute_result"
    }
   ],
   "source": [
    "c=[[0,1,2,3],[4,9,0,0]]\n",
    "k=np.array(c)\n",
    "t=np.where(k==0)[0]\n",
    "t[2]\n",
    "len(np.shape(c))"
   ]
  },
  {
   "cell_type": "code",
   "execution_count": 29,
   "metadata": {},
   "outputs": [],
   "source": [
    "c=[1,3,4]\n",
    "d=[4,5,6,6]\n"
   ]
  },
  {
   "cell_type": "code",
   "execution_count": 36,
   "metadata": {},
   "outputs": [],
   "source": [
    "p=np.zeros([3,2])\n",
    "for j in range(2):\n",
    "    p[:,j]=[1,2,3]"
   ]
  },
  {
   "cell_type": "code",
   "execution_count": 37,
   "metadata": {},
   "outputs": [
    {
     "data": {
      "text/plain": [
       "array([[1., 1.],\n",
       "       [2., 2.],\n",
       "       [3., 3.]])"
      ]
     },
     "execution_count": 37,
     "metadata": {},
     "output_type": "execute_result"
    }
   ],
   "source": [
    "p"
   ]
  },
  {
   "cell_type": "code",
   "execution_count": 38,
   "metadata": {},
   "outputs": [],
   "source": [
    "p=[[2],[3,4],5]"
   ]
  },
  {
   "cell_type": "code",
   "execution_count": 41,
   "metadata": {},
   "outputs": [
    {
     "data": {
      "text/plain": [
       "(3,)"
      ]
     },
     "execution_count": 41,
     "metadata": {},
     "output_type": "execute_result"
    }
   ],
   "source": [
    "np.shape(p)"
   ]
  },
  {
   "cell_type": "code",
   "execution_count": 71,
   "metadata": {},
   "outputs": [
    {
     "data": {
      "text/plain": [
       "3.0"
      ]
     },
     "execution_count": 71,
     "metadata": {},
     "output_type": "execute_result"
    }
   ],
   "source": [
    "np.sqrt(9)\n"
   ]
  },
  {
   "cell_type": "code",
   "execution_count": 90,
   "metadata": {},
   "outputs": [
    {
     "data": {
      "text/plain": [
       "2"
      ]
     },
     "execution_count": 90,
     "metadata": {},
     "output_type": "execute_result"
    }
   ],
   "source": [
    "c={\"sid\":2}\n",
    "c[\"sid\"]"
   ]
  },
  {
   "cell_type": "code",
   "execution_count": 128,
   "metadata": {},
   "outputs": [
    {
     "data": {
      "text/plain": [
       "4"
      ]
     },
     "execution_count": 128,
     "metadata": {},
     "output_type": "execute_result"
    }
   ],
   "source": [
    "ifelse(False,2,4)"
   ]
  },
  {
   "cell_type": "code",
   "execution_count": 160,
   "metadata": {},
   "outputs": [],
   "source": [
    "k=[pd.NA]*5"
   ]
  },
  {
   "cell_type": "code",
   "execution_count": 161,
   "metadata": {},
   "outputs": [
    {
     "data": {
      "text/plain": [
       "[<NA>, <NA>, <NA>, <NA>, <NA>]"
      ]
     },
     "execution_count": 161,
     "metadata": {},
     "output_type": "execute_result"
    }
   ],
   "source": [
    "k"
   ]
  },
  {
   "cell_type": "code",
   "execution_count": null,
   "metadata": {},
   "outputs": [],
   "source": []
  }
 ],
 "metadata": {
  "kernelspec": {
   "display_name": "Python 3",
   "language": "python",
   "name": "python3"
  },
  "language_info": {
   "codemirror_mode": {
    "name": "ipython",
    "version": 3
   },
   "file_extension": ".py",
   "mimetype": "text/x-python",
   "name": "python",
   "nbconvert_exporter": "python",
   "pygments_lexer": "ipython3",
   "version": "3.7.7"
  }
 },
 "nbformat": 4,
 "nbformat_minor": 4
}
