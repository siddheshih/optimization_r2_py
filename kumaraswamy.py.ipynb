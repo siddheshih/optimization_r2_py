{
 "cells": [
  {
   "cell_type": "code",
   "execution_count": 5,
   "metadata": {},
   "outputs": [],
   "source": [
    "import math\n",
    "from scipy.optimize import fsolve\n",
    "from scipy.optimize import root\n",
    "import sympy as sym"
   ]
  },
  {
   "cell_type": "code",
   "execution_count": 8,
   "metadata": {},
   "outputs": [],
   "source": [
    "\"\"\"\n",
    "The Momment generator function\n",
    "--------\n",
    "Inputs:\n",
    "    a,b: The parameters\n",
    "    n:   The order of the moment\n",
    "Output:\n",
    "    The moment with respect to a,b of order n\n",
    "\"\"\"\n",
    "def moment(a,b,n):\n",
    "    num=math.log(b)+math.lgamma(1+(n/a))+math.lgamma(b)\n",
    "    den=math.lgamma(1+b+(n/a))\n",
    "    c=num/den\n",
    "    return math.exp(c)"
   ]
  },
  {
   "cell_type": "code",
   "execution_count": 9,
   "metadata": {},
   "outputs": [],
   "source": [
    "\"\"\"\n",
    "The function that creates the equations for moments\n",
    "mu and var needs to be defined gloabally\n",
    "\"\"\"\n",
    "def fn_mom(p):\n",
    "    x,y=p\n",
    "    global mu,var\n",
    "    t=moment(math.exp(x),math.exp(y),1)\n",
    "    mom1=t-mu\n",
    "    mom2=moment(math.exp(x),math.exp(y),2)-(t*t)-var\n",
    "    return [mom1,mom2]\n",
    "    "
   ]
  },
  {
   "cell_type": "code",
   "execution_count": 10,
   "metadata": {},
   "outputs": [],
   "source": [
    "\"\"\"\n",
    "The mon linear equation solver\n",
    "input: initial values of x and y(Bascially the rhs of equation)\n",
    "Output: The Solution\n",
    "\"\"\"\n",
    "def moment_solver(x,y):\n",
    "    p=[x,y]\n",
    "    k,l=fsolve(fn_mom, p)\n",
    "    return [k,l]"
   ]
  },
  {
   "cell_type": "code",
   "execution_count": 11,
   "metadata": {},
   "outputs": [],
   "source": [
    "mu=3\n",
    "var=0.7\n",
    "#fn_mom(4,5)"
   ]
  },
  {
   "cell_type": "code",
   "execution_count": 12,
   "metadata": {},
   "outputs": [],
   "source": [
    "def equation(p):\n",
    "    x,y=p\n",
    "    return [x+y**2-4, math.exp(x) + x*y - 3]\n"
   ]
  },
  {
   "cell_type": "code",
   "execution_count": 13,
   "metadata": {},
   "outputs": [
    {
     "name": "stderr",
     "output_type": "stream",
     "text": [
      "/home/siddhesh/anaconda3/lib/python3.7/site-packages/scipy/optimize/minpack.py:175: RuntimeWarning: The iteration is not making good progress, as measured by the \n",
      "  improvement from the last five Jacobian evaluations.\n",
      "  warnings.warn(msg, RuntimeWarning)\n"
     ]
    }
   ],
   "source": [
    "x, y =  fsolve(fn_mom, [1, 1])"
   ]
  },
  {
   "cell_type": "code",
   "execution_count": 14,
   "metadata": {},
   "outputs": [
    {
     "data": {
      "text/plain": [
       "(-0.055289244814106554, -3.9985549185340283)"
      ]
     },
     "execution_count": 14,
     "metadata": {},
     "output_type": "execute_result"
    }
   ],
   "source": [
    "x,y"
   ]
  },
  {
   "cell_type": "code",
   "execution_count": 15,
   "metadata": {},
   "outputs": [],
   "source": [
    "def moment_solver(x,y):\n",
    "    p=[x,y]\n",
    "    k,l=fsolve(fn_mom, p)\n",
    "    return [k,l]"
   ]
  },
  {
   "cell_type": "code",
   "execution_count": null,
   "metadata": {},
   "outputs": [],
   "source": []
  },
  {
   "cell_type": "code",
   "execution_count": 16,
   "metadata": {},
   "outputs": [
    {
     "data": {
      "text/plain": [
       "[-0.055289244814106554, -3.9985549185340283]"
      ]
     },
     "execution_count": 16,
     "metadata": {},
     "output_type": "execute_result"
    }
   ],
   "source": [
    "moment_solver(1,1)"
   ]
  },
  {
   "cell_type": "code",
   "execution_count": 37,
   "metadata": {},
   "outputs": [],
   "source": [
    "\"\"\"\n",
    "Input:\n",
    "Mu and Var of the distribution\n",
    "Output:\n",
    "Parameters of the distribution from method of moments\n",
    "\"\"\"\n",
    "\n",
    "def get_params(mu,var,z=0.01,m=0.01):\n",
    "    def moment(a,b,n):\n",
    "        num=math.log(b)+math.lgamma(1+(n/a))+math.lgamma(b)\n",
    "        den=math.lgamma(1+b+(n/a))\n",
    "        c=num/den\n",
    "        return math.exp(c)\n",
    "    def fn_mom(p):\n",
    "        x,y=p\n",
    "        global mu,var\n",
    "        t=moment(math.exp(x),math.exp(y),1)\n",
    "        mom1=t-mu\n",
    "        mom2=moment(math.exp(x),math.exp(y),2)-(t*t)-var\n",
    "        return (mom1,mom2)\n",
    "    t=(z,m)\n",
    "    k,l=fsolve(fn_mom, t)\n",
    "    print(k,l)\n",
    "    #k1,l1=root(fn_mom,t)\n",
    "    #print(k1,l1)\n",
    "    #k,l=sym.solve(fn_mom, t)\n",
    "    return[k,l]\n",
    "    "
   ]
  },
  {
   "cell_type": "code",
   "execution_count": 38,
   "metadata": {},
   "outputs": [
    {
     "name": "stdout",
     "output_type": "stream",
     "text": [
      "-0.07961790332447287 -3.593242695577121\n"
     ]
    },
    {
     "data": {
      "text/plain": [
       "[-0.07961790332447287, -3.593242695577121]"
      ]
     },
     "execution_count": 38,
     "metadata": {},
     "output_type": "execute_result"
    }
   ],
   "source": [
    "get_params(0.3,0.4)"
   ]
  },
  {
   "cell_type": "code",
   "execution_count": null,
   "metadata": {},
   "outputs": [],
   "source": []
  },
  {
   "cell_type": "code",
   "execution_count": 2,
   "metadata": {},
   "outputs": [
    {
     "name": "stdout",
     "output_type": "stream",
     "text": [
      "Hi\n",
      "Hello World\n"
     ]
    }
   ],
   "source": [
    "greeting = \"Hello\"\n",
    "\n",
    "## The below thing would just change in local scope but the global variable would remain\n",
    "## unchanged\n",
    "def change_greeting(new_greeting):\n",
    "    ##This ignores the global scope\n",
    "    greeting = new_greeting\n",
    "    print(greeting)\n",
    "\n",
    "def greeting_world():\n",
    "    world = \"World\"\n",
    "    print(greeting, world)\n",
    "\n",
    "change_greeting(\"Hi\")\n",
    "greeting_world()"
   ]
  },
  {
   "cell_type": "code",
   "execution_count": 3,
   "metadata": {},
   "outputs": [
    {
     "name": "stdout",
     "output_type": "stream",
     "text": [
      "Hi World\n"
     ]
    }
   ],
   "source": [
    "\"\"\"\n",
    "How to use and edit the global variable in python\n",
    "With global, you're telling Python to use the globally defined variable instead of locally creating one. \n",
    "To use the keyword, simply type 'global', followed by the variable name.\n",
    "\"\"\"\n",
    "def change_greeting(new_greeting):\n",
    "    global greeting\n",
    "    greeting = new_greeting\n",
    "\n",
    "def greeting_world():\n",
    "    world = \"World\"\n",
    "    print(greeting, world)\n",
    "\n",
    "change_greeting(\"Hi\")\n",
    "greeting_world()"
   ]
  },
  {
   "cell_type": "code",
   "execution_count": 4,
   "metadata": {},
   "outputs": [
    {
     "name": "stdout",
     "output_type": "stream",
     "text": [
      "inner - second_num is:  1\n",
      "outer - first_num is:  0\n"
     ]
    }
   ],
   "source": [
    "\"\"\"\n",
    "Changing the outer variable in a inner function\n",
    "Use the keyword: nonlocal\n",
    "if \n",
    "1. first_num was defined in inner():\n",
    "    That would be used as local varibale\n",
    "2. first_num was not defined in inner():\n",
    "    That would be used from the outer function\n",
    "    To edit that use: nonlocal key word\n",
    "\"\"\"\n",
    "def outer():\n",
    "    first_num = 1\n",
    "    def inner():\n",
    "        nonlocal first_num\n",
    "        first_num = 0\n",
    "        second_num = 1\n",
    "        print(\"inner - second_num is: \", second_num)\n",
    "    inner()\n",
    "    print(\"outer - first_num is: \", first_num)\n",
    "\n",
    "outer()"
   ]
  },
  {
   "cell_type": "code",
   "execution_count": null,
   "metadata": {},
   "outputs": [],
   "source": []
  },
  {
   "cell_type": "code",
   "execution_count": null,
   "metadata": {},
   "outputs": [],
   "source": []
  }
 ],
 "metadata": {
  "kernelspec": {
   "display_name": "Python 3",
   "language": "python",
   "name": "python3"
  },
  "language_info": {
   "codemirror_mode": {
    "name": "ipython",
    "version": 3
   },
   "file_extension": ".py",
   "mimetype": "text/x-python",
   "name": "python",
   "nbconvert_exporter": "python",
   "pygments_lexer": "ipython3",
   "version": "3.7.7"
  }
 },
 "nbformat": 4,
 "nbformat_minor": 4
}
